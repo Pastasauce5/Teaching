{
 "cells": [
  {
   "cell_type": "markdown",
   "metadata": {},
   "source": [
    "# Some Python thingies"
   ]
  },
  {
   "cell_type": "code",
   "execution_count": 2,
   "metadata": {},
   "outputs": [],
   "source": [
    "import numpy as np"
   ]
  },
  {
   "cell_type": "code",
   "execution_count": 10,
   "metadata": {},
   "outputs": [
    {
     "data": {
      "text/plain": [
       "2.23606797749979"
      ]
     },
     "execution_count": 10,
     "metadata": {},
     "output_type": "execute_result"
    }
   ],
   "source": [
    "# Haha, I didn't realize that, but spaces after functions don't break Python\n",
    "for i in range (10):\n",
    "    pass\n",
    "\n",
    "max ([1])\n",
    "np.sqrt (5)"
   ]
  },
  {
   "cell_type": "code",
   "execution_count": 13,
   "metadata": {},
   "outputs": [
    {
     "data": {
      "text/plain": [
       "array([[0., 0., 0.],\n",
       "       [0., 0., 0.],\n",
       "       [0., 0., 0.],\n",
       "       [0., 0., 0.],\n",
       "       [0., 0., 0.]])"
      ]
     },
     "execution_count": 13,
     "metadata": {},
     "output_type": "execute_result"
    }
   ],
   "source": [
    "a = np.zeros((5,3))\n",
    "a"
   ]
  },
  {
   "cell_type": "code",
   "execution_count": 15,
   "metadata": {},
   "outputs": [
    {
     "data": {
      "text/plain": [
       "(5, 3)"
      ]
     },
     "execution_count": 15,
     "metadata": {},
     "output_type": "execute_result"
    }
   ],
   "source": [
    "a.shape"
   ]
  },
  {
   "cell_type": "code",
   "execution_count": 17,
   "metadata": {},
   "outputs": [
    {
     "data": {
      "text/plain": [
       "array([1, 2, 3])"
      ]
     },
     "execution_count": 17,
     "metadata": {},
     "output_type": "execute_result"
    }
   ],
   "source": [
    "b = np.array([1,2,3])\n",
    "b # Oh, that's a vector"
   ]
  },
  {
   "cell_type": "code",
   "execution_count": 3,
   "metadata": {},
   "outputs": [
    {
     "data": {
      "text/plain": [
       "array([[1, 2, 3],\n",
       "       [4, 5, 6]])"
      ]
     },
     "execution_count": 3,
     "metadata": {},
     "output_type": "execute_result"
    }
   ],
   "source": [
    "c = np.array([[1,2,3],[4,5,6]])\n",
    "c"
   ]
  },
  {
   "cell_type": "code",
   "execution_count": 4,
   "metadata": {},
   "outputs": [
    {
     "data": {
      "text/plain": [
       "array([[ 2,  4,  6],\n",
       "       [ 8, 10, 12]])"
      ]
     },
     "execution_count": 4,
     "metadata": {},
     "output_type": "execute_result"
    }
   ],
   "source": [
    "c*2"
   ]
  },
  {
   "cell_type": "code",
   "execution_count": 5,
   "metadata": {},
   "outputs": [
    {
     "data": {
      "text/plain": [
       "array([[11, 12, 13],\n",
       "       [14, 15, 16]])"
      ]
     },
     "execution_count": 5,
     "metadata": {},
     "output_type": "execute_result"
    }
   ],
   "source": [
    "c+10"
   ]
  },
  {
   "cell_type": "code",
   "execution_count": 30,
   "metadata": {},
   "outputs": [
    {
     "name": "stdout",
     "output_type": "stream",
     "text": [
      "5\n",
      "[4 5 6]\n",
      "[2 5]\n",
      "[5 6]\n",
      "[4 5 6]\n",
      "(2, 3)\n",
      "[4 5 6]\n",
      "[4 5 6]\n"
     ]
    }
   ],
   "source": [
    "print(c[1,1])\n",
    "# If I want the first (python-first, zero-indexed) row?\n",
    "print(c[1,:])\n",
    "# First column?\n",
    "print(c[:,1])\n",
    "# What if I want the end of the first row? Say, from the middle to the end?\n",
    "print(c[1,1:]) # This is fun! We fix the row number, and we use a slice for the columns\n",
    "\n",
    "# Full bottom row? (last row)\n",
    "print(c[1,:]) # If you happen to magically know it\n",
    "print(c.shape)\n",
    "print(c[c.shape[0]-1,:]) # Also gives you the last row\n",
    "print(c[-1,:]) # How you actually do it"
   ]
  },
  {
   "cell_type": "code",
   "execution_count": 46,
   "metadata": {},
   "outputs": [
    {
     "name": "stdout",
     "output_type": "stream",
     "text": [
      "[[  0.   0.   0.]\n",
      " [  0. 777.   0.]\n",
      " [  0.   0.   0.]\n",
      " [  0.   1.   1.]\n",
      " [  0.   1.   1.]]\n",
      "Make the spiderman cast shadow:\n",
      "[[  0.   0.   0.]\n",
      " [  0. 777.   0.]\n",
      " [  0. 111.   0.]\n",
      " [  0.   1.   1.]\n",
      " [  0.   1.   1.]]\n",
      "The new truth:\n",
      " [[  0.   0.   0.]\n",
      " [777. 777.   0.]\n",
      " [111. 111.   0.]\n",
      " [  2.   1.   1.]\n",
      " [  2.   1.   1.]]\n",
      "Yet another attempt:\n",
      " [[  0.   0.   0.]\n",
      " [777. 777.   0.]\n",
      " [111. 111.   0.]\n",
      " [  2.   1.   1.]\n",
      " [  2.   1.   1.]]\n"
     ]
    }
   ],
   "source": [
    "# Back to a larger structure\n",
    "a = np.zeros((5,3))\n",
    "a[1,1] = 777   # One particular element\n",
    "a[-2:,-2:] = 1 # Bottom right corner: negative indexing, and slicing\n",
    "print(a)\n",
    "\n",
    "print('Make the spiderman cast shadow:')\n",
    "a[2,:] = a[1,:]/7 # Make the human-third (python-2nd) row one 7th of the human-second (python-1st) row\n",
    "print(a)\n",
    "\n",
    "# Make 0th column a sum of the other two\n",
    "# Manually:\n",
    "a[:,0] = a[:,1] + a[:,2]\n",
    "print('The new truth:\\n',a)\n",
    "\n",
    "# Another, smarter way:\n",
    "a[:,0] = np.sum(a[:,1:], axis=1) # In this case, don't forget to tell that you want horizontal squishing\n",
    "print('Yet another attempt:\\n',a)"
   ]
  }
 ],
 "metadata": {
  "kernelspec": {
   "display_name": "Python 3",
   "language": "python",
   "name": "python3"
  },
  "language_info": {
   "codemirror_mode": {
    "name": "ipython",
    "version": 3
   },
   "file_extension": ".py",
   "mimetype": "text/x-python",
   "name": "python",
   "nbconvert_exporter": "python",
   "pygments_lexer": "ipython3",
   "version": "3.7.3"
  }
 },
 "nbformat": 4,
 "nbformat_minor": 2
}
