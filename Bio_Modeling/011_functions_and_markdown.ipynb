{
 "cells": [
  {
   "cell_type": "markdown",
   "metadata": {},
   "source": [
    "# Class 2"
   ]
  },
  {
   "cell_type": "code",
   "execution_count": 3,
   "metadata": {},
   "outputs": [
    {
     "name": "stdout",
     "output_type": "stream",
     "text": [
      "Here is a number: 2\n",
      "I have a lovely dog named Spot\n",
      "I have a lovely dog named Fido\n",
      "I have a lovely dog named Reks\n"
     ]
    }
   ],
   "source": [
    "# Functions!\n",
    "\n",
    "# Functions that just do things but don't talk back\n",
    "# Built-in function:\n",
    "print(\"Here is a number:\",2)\n",
    "\n",
    "# Sad life of a person who wrote the same code many times\n",
    "\n",
    "print(\"I have a lovely dog named Spot\")\n",
    "print(\"I have a lovely dog named Fido\")\n",
    "print(\"I have a lovely dog named Reks\")\n",
    "# Poor person, had to write same thing again and again"
   ]
  },
  {
   "cell_type": "code",
   "execution_count": 12,
   "metadata": {},
   "outputs": [
    {
     "name": "stdout",
     "output_type": "stream",
     "text": [
      "I have a lovely dog named Teddy\n",
      "I have a lovely dog named Dog\n"
     ]
    }
   ],
   "source": [
    "def express_love_old(name=\"Dog\"):\n",
    "    print(\"I have a lovely dog named\",name)\n",
    "    \n",
    "express_love(\"Teddy\")\n",
    "express_love() # Default value"
   ]
  },
  {
   "cell_type": "code",
   "execution_count": 17,
   "metadata": {},
   "outputs": [
    {
     "name": "stdout",
     "output_type": "stream",
     "text": [
      "I have a lovely dog named Teddy\n",
      "Glory to al living things!\n"
     ]
    }
   ],
   "source": [
    "def express_love(name=None): # Default value of None, so no error if called without arguments\n",
    "    \"\"\"Expresses love to all creation, or a specific dog.\"\"\"\n",
    "    # This thing above ^^^ is a docstring, and it's a good form to provide functions with them.\n",
    "    if name is None:         # Special behavior if no argument\n",
    "        print(\"Glory to al living things!\")\n",
    "    else:\n",
    "        print(\"I have a lovely dog named\",name)\n",
    "        \n",
    "    \n",
    "express_love()\n",
    "express_love(\"Teddy\")"
   ]
  },
  {
   "cell_type": "code",
   "execution_count": 21,
   "metadata": {},
   "outputs": [
    {
     "name": "stdout",
     "output_type": "stream",
     "text": [
      "['Spot', 'Fido', 'Reks', 'Teddy']\n",
      "The loop starts now:\n",
      "I have a lovely dog named Spot\n",
      "I have a lovely dog named Fido\n",
      "I have a lovely dog named Reks\n",
      "I have a lovely dog named Teddy\n"
     ]
    }
   ],
   "source": [
    "# Let's glorify several dogs in one go\n",
    "\n",
    "names = ['Spot', 'Fido', 'Reks', 'Teddy']\n",
    "print(names)\n",
    "\n",
    "print('The loop starts now:')\n",
    "for name in names:       # \"FOR\" here makes your 'running variable' (NAME) take values from the list (NAMES), one by one\n",
    "    express_love(name)"
   ]
  },
  {
   "cell_type": "code",
   "execution_count": 9,
   "metadata": {},
   "outputs": [
    {
     "data": {
      "text/plain": [
       "<function __main__.express_love(name)>"
      ]
     },
     "execution_count": 9,
     "metadata": {},
     "output_type": "execute_result"
    }
   ],
   "source": [
    "express_love # If you call a function name without (), instead of running the function you \"get\" the function itself"
   ]
  },
  {
   "cell_type": "code",
   "execution_count": 10,
   "metadata": {},
   "outputs": [
    {
     "ename": "NameError",
     "evalue": "name 'express_hatered' is not defined",
     "output_type": "error",
     "traceback": [
      "\u001b[1;31m---------------------------------------------------------------------------\u001b[0m",
      "\u001b[1;31mNameError\u001b[0m                                 Traceback (most recent call last)",
      "\u001b[1;32m<ipython-input-10-c0b5be8e1e39>\u001b[0m in \u001b[0;36m<module>\u001b[1;34m\u001b[0m\n\u001b[1;32m----> 1\u001b[1;33m \u001b[0mexpress_hatered\u001b[0m\u001b[1;33m\u001b[0m\u001b[1;33m\u001b[0m\u001b[0m\n\u001b[0m",
      "\u001b[1;31mNameError\u001b[0m: name 'express_hatered' is not defined"
     ]
    }
   ],
   "source": [
    "express_hatered # This one doesn't exist\n",
    "# Error message tries to tell you where the error happened (what row)\n",
    "# And it tries to name the error (the very last row of the error message)"
   ]
  },
  {
   "cell_type": "code",
   "execution_count": 27,
   "metadata": {},
   "outputs": [
    {
     "name": "stdout",
     "output_type": "stream",
     "text": [
      "4\n",
      "14\n",
      "5\n",
      "14\n",
      "5\n"
     ]
    }
   ],
   "source": [
    "# Functions that do something and give it back to you\n",
    "\n",
    "# Built-in\n",
    "print(len(names)) # Takes something, returns a lenght of it\n",
    "\n",
    "# Imagine that somebody has to calculate x**2+5 again and again\n",
    "print(3**2+5)\n",
    "print(0**2+5)\n",
    "\n",
    "def my_calculation(x): # Strategic choice of not having a default value; we want it to protest\n",
    "    \"\"\"Calculates this very important formula on which our life hinges.\"\"\"\n",
    "    return x**2+5\n",
    "\n",
    "print(my_calculation(3))\n",
    "print(my_calculation(0))"
   ]
  },
  {
   "cell_type": "code",
   "execution_count": 28,
   "metadata": {},
   "outputs": [
    {
     "ename": "TypeError",
     "evalue": "my_calculation() takes 1 positional argument but 2 were given",
     "output_type": "error",
     "traceback": [
      "\u001b[1;31m---------------------------------------------------------------------------\u001b[0m",
      "\u001b[1;31mTypeError\u001b[0m                                 Traceback (most recent call last)",
      "\u001b[1;32m<ipython-input-28-dfc364c1c93d>\u001b[0m in \u001b[0;36m<module>\u001b[1;34m\u001b[0m\n\u001b[1;32m----> 1\u001b[1;33m \u001b[0mprint\u001b[0m\u001b[1;33m(\u001b[0m\u001b[0mmy_calculation\u001b[0m\u001b[1;33m(\u001b[0m\u001b[1;36m3\u001b[0m\u001b[1;33m,\u001b[0m\u001b[1;36m0\u001b[0m\u001b[1;33m)\u001b[0m\u001b[1;33m)\u001b[0m\u001b[1;33m\u001b[0m\u001b[1;33m\u001b[0m\u001b[0m\n\u001b[0m",
      "\u001b[1;31mTypeError\u001b[0m: my_calculation() takes 1 positional argument but 2 were given"
     ]
    }
   ],
   "source": [
    "print(my_calculation(3,0)) # Can it take 2 arguments? no."
   ]
  },
  {
   "cell_type": "code",
   "execution_count": 29,
   "metadata": {},
   "outputs": [
    {
     "ename": "TypeError",
     "evalue": "unsupported operand type(s) for ** or pow(): 'list' and 'int'",
     "output_type": "error",
     "traceback": [
      "\u001b[1;31m---------------------------------------------------------------------------\u001b[0m",
      "\u001b[1;31mTypeError\u001b[0m                                 Traceback (most recent call last)",
      "\u001b[1;32m<ipython-input-29-1f16c5e47b47>\u001b[0m in \u001b[0;36m<module>\u001b[1;34m\u001b[0m\n\u001b[1;32m----> 1\u001b[1;33m \u001b[0mmy_calculation\u001b[0m\u001b[1;33m(\u001b[0m\u001b[1;33m[\u001b[0m\u001b[1;36m3\u001b[0m\u001b[1;33m,\u001b[0m\u001b[1;36m0\u001b[0m\u001b[1;33m]\u001b[0m\u001b[1;33m)\u001b[0m\u001b[1;33m\u001b[0m\u001b[1;33m\u001b[0m\u001b[0m\n\u001b[0m",
      "\u001b[1;32m<ipython-input-27-9e9477ec5b77>\u001b[0m in \u001b[0;36mmy_calculation\u001b[1;34m(x)\u001b[0m\n\u001b[0;32m     10\u001b[0m \u001b[1;32mdef\u001b[0m \u001b[0mmy_calculation\u001b[0m\u001b[1;33m(\u001b[0m\u001b[0mx\u001b[0m\u001b[1;33m)\u001b[0m\u001b[1;33m:\u001b[0m \u001b[1;31m# Strategic choice of not having a default value; we want it to protest\u001b[0m\u001b[1;33m\u001b[0m\u001b[1;33m\u001b[0m\u001b[0m\n\u001b[0;32m     11\u001b[0m     \u001b[1;34m\"\"\"Calculates this very important formula on which our life hinges.\"\"\"\u001b[0m\u001b[1;33m\u001b[0m\u001b[1;33m\u001b[0m\u001b[0m\n\u001b[1;32m---> 12\u001b[1;33m     \u001b[1;32mreturn\u001b[0m \u001b[0mx\u001b[0m\u001b[1;33m**\u001b[0m\u001b[1;36m2\u001b[0m\u001b[1;33m+\u001b[0m\u001b[1;36m5\u001b[0m\u001b[1;33m\u001b[0m\u001b[1;33m\u001b[0m\u001b[0m\n\u001b[0m\u001b[0;32m     13\u001b[0m \u001b[1;33m\u001b[0m\u001b[0m\n\u001b[0;32m     14\u001b[0m \u001b[0mprint\u001b[0m\u001b[1;33m(\u001b[0m\u001b[0mmy_calculation\u001b[0m\u001b[1;33m(\u001b[0m\u001b[1;36m3\u001b[0m\u001b[1;33m)\u001b[0m\u001b[1;33m)\u001b[0m\u001b[1;33m\u001b[0m\u001b[1;33m\u001b[0m\u001b[0m\n",
      "\u001b[1;31mTypeError\u001b[0m: unsupported operand type(s) for ** or pow(): 'list' and 'int'"
     ]
    }
   ],
   "source": [
    "my_calculation([3,0]) # Also an error, because it cannot work lists"
   ]
  },
  {
   "cell_type": "markdown",
   "metadata": {},
   "source": [
    "# Markdown\n",
    "\n",
    "Markdown is cool! Here's what happens if you write! You get text!\n",
    "If you start a new line, actually nothing happens.\n",
    "\n",
    "If you want a new paragraph, you need to skip a line.\n",
    "\n",
    "* To do a bullet point list,\n",
    "* you use asterisks, and a space.\n",
    "\n",
    "To make a link, you [write the words in square brackets](http://google.com), followed by a link in round parentheses.\n",
    "\n",
    "## Second level title\n",
    "\n",
    "### Third-level title\n",
    "\n",
    "Two fancy unnecessary but fancy things. One, if you want to make your text about coding look so coding like, you can put some key words in reverse quotation marks. It will look like that: `print(4)`. Looks fancy! `5+5=10`.\n",
    "\n",
    "Another fancy thing is math! Math thingies are coded in little snippets of LaTeX, and go between dollar signs. For example, $5+5=10$. \"Fancy\" math: $\\displaystyle \\sum_{i=0}^{\\inf} \\sqrt{1/(n+1)} $\n",
    "\n",
    "$\\displaystyle \\frac{1}{1 \\bigotimes x}$"
   ]
  },
  {
   "cell_type": "code",
   "execution_count": null,
   "metadata": {},
   "outputs": [],
   "source": []
  },
  {
   "cell_type": "code",
   "execution_count": null,
   "metadata": {},
   "outputs": [],
   "source": []
  },
  {
   "cell_type": "code",
   "execution_count": null,
   "metadata": {},
   "outputs": [],
   "source": []
  },
  {
   "cell_type": "code",
   "execution_count": null,
   "metadata": {},
   "outputs": [],
   "source": []
  },
  {
   "cell_type": "code",
   "execution_count": null,
   "metadata": {},
   "outputs": [],
   "source": []
  },
  {
   "cell_type": "code",
   "execution_count": null,
   "metadata": {},
   "outputs": [],
   "source": []
  }
 ],
 "metadata": {
  "kernelspec": {
   "display_name": "Python 3",
   "language": "python",
   "name": "python3"
  },
  "language_info": {
   "codemirror_mode": {
    "name": "ipython",
    "version": 3
   },
   "file_extension": ".py",
   "mimetype": "text/x-python",
   "name": "python",
   "nbconvert_exporter": "python",
   "pygments_lexer": "ipython3",
   "version": "3.7.3"
  }
 },
 "nbformat": 4,
 "nbformat_minor": 2
}
