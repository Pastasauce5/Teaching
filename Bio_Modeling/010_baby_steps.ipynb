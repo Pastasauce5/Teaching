{
 "cells": [
  {
   "cell_type": "code",
   "execution_count": 47,
   "metadata": {},
   "outputs": [
    {
     "data": {
      "text/plain": [
       "1"
      ]
     },
     "execution_count": 47,
     "metadata": {},
     "output_type": "execute_result"
    }
   ],
   "source": [
    "# That's a comment\n",
    "7 % 3 # This is a comment as well"
   ]
  },
  {
   "cell_type": "code",
   "execution_count": 48,
   "metadata": {},
   "outputs": [
    {
     "data": {
      "text/plain": [
       "4"
      ]
     },
     "execution_count": 48,
     "metadata": {},
     "output_type": "execute_result"
    }
   ],
   "source": [
    "2+2 # I'm adding two to two here # That's a bad comment"
   ]
  },
  {
   "cell_type": "code",
   "execution_count": 49,
   "metadata": {},
   "outputs": [
    {
     "name": "stdout",
     "output_type": "stream",
     "text": [
      "3\n"
     ]
    }
   ],
   "source": [
    "a = 2\n",
    "a = a+1 # The value is updated\n",
    "print(a)"
   ]
  },
  {
   "cell_type": "code",
   "execution_count": 50,
   "metadata": {},
   "outputs": [
    {
     "name": "stdout",
     "output_type": "stream",
     "text": [
      "8\n"
     ]
    }
   ],
   "source": [
    "a = a+5\n",
    "print(a)"
   ]
  },
  {
   "cell_type": "code",
   "execution_count": 55,
   "metadata": {},
   "outputs": [
    {
     "ename": "IndentationError",
     "evalue": "unexpected indent (<ipython-input-55-9d3f58cad1f0>, line 2)",
     "output_type": "error",
     "traceback": [
      "\u001b[1;36m  File \u001b[1;32m\"<ipython-input-55-9d3f58cad1f0>\"\u001b[1;36m, line \u001b[1;32m2\u001b[0m\n\u001b[1;33m    print(a)\u001b[0m\n\u001b[1;37m    ^\u001b[0m\n\u001b[1;31mIndentationError\u001b[0m\u001b[1;31m:\u001b[0m unexpected indent\n"
     ]
    }
   ],
   "source": [
    "a = 5\n",
    " print(a) # Spaces matter!"
   ]
  },
  {
   "cell_type": "code",
   "execution_count": 59,
   "metadata": {},
   "outputs": [
    {
     "name": "stdout",
     "output_type": "stream",
     "text": [
      "0\n",
      "Haha\n",
      "1\n",
      "Haha\n",
      "2\n",
      "Haha\n",
      "3\n",
      "Haha\n",
      "4\n",
      "Haha\n",
      "LOL\n"
     ]
    }
   ],
   "source": [
    "# Loop\n",
    "for i in range(5):\n",
    "    print(i)\n",
    "    print('Haha') # This is in the loop\n",
    "print('LOL') # This line is not in the loop\n",
    "\n",
    "# Learning points:\n",
    "# 1) That's how you do a for-loop. Mind the : at the end\n",
    "# 2) The inside of the loop is marked by indentation. Everything that's properly indented gets looped\n",
    "# 3) Once you're back to previous indentation, the loop is over\n",
    "# 4) Python is a zero-indexed language. So range(5) produces 5 numbers, from 0 to 4"
   ]
  },
  {
   "cell_type": "code",
   "execution_count": 69,
   "metadata": {},
   "outputs": [
    {
     "name": "stdout",
     "output_type": "stream",
     "text": [
      "[2, 4, 8]\n",
      "Zero-th element: 2\n",
      "One-th element is: 4\n",
      "2\n",
      "4\n",
      "8\n"
     ]
    }
   ],
   "source": [
    "# Lists\n",
    "b = [2,4,8]\n",
    "print(b)\n",
    "print('Zero-th element:', b[0])\n",
    "print(\"One-th element is:\",b[1]) # Single and double quotation marks do the same thing \n",
    "\n",
    "for i in b:\n",
    "    print(i)"
   ]
  },
  {
   "cell_type": "code",
   "execution_count": 72,
   "metadata": {},
   "outputs": [
    {
     "name": "stdout",
     "output_type": "stream",
     "text": [
      "5\n",
      "Haha here's your number 3 , silly!\n",
      "Haha here's your number 8 , silly!\n"
     ]
    }
   ],
   "source": [
    "print(a) # See , it worked!\n",
    "\n",
    "# Let's write an alternative stupid print function\n",
    "def my_print(i):\n",
    "    print(\"Haha here's your number\",i,\", silly!\")\n",
    "    \n",
    "my_print(3)\n",
    "my_print(8)"
   ]
  },
  {
   "cell_type": "code",
   "execution_count": 73,
   "metadata": {},
   "outputs": [
    {
     "ename": "TypeError",
     "evalue": "my_print() takes 1 positional argument but 2 were given",
     "output_type": "error",
     "traceback": [
      "\u001b[1;31m---------------------------------------------------------------------------\u001b[0m",
      "\u001b[1;31mTypeError\u001b[0m                                 Traceback (most recent call last)",
      "\u001b[1;32m<ipython-input-73-f193fd29b914>\u001b[0m in \u001b[0;36m<module>\u001b[1;34m\u001b[0m\n\u001b[1;32m----> 1\u001b[1;33m \u001b[0mmy_print\u001b[0m\u001b[1;33m(\u001b[0m\u001b[1;36m4\u001b[0m\u001b[1;33m,\u001b[0m\u001b[1;36m5\u001b[0m\u001b[1;33m)\u001b[0m\u001b[1;33m\u001b[0m\u001b[1;33m\u001b[0m\u001b[0m\n\u001b[0m",
      "\u001b[1;31mTypeError\u001b[0m: my_print() takes 1 positional argument but 2 were given"
     ]
    }
   ],
   "source": [
    "my_print(4,5) # Honestly, it wasn't a very good function. But it's mine."
   ]
  }
 ],
 "metadata": {
  "kernelspec": {
   "display_name": "Python 3",
   "language": "python",
   "name": "python3"
  },
  "language_info": {
   "codemirror_mode": {
    "name": "ipython",
    "version": 3
   },
   "file_extension": ".py",
   "mimetype": "text/x-python",
   "name": "python",
   "nbconvert_exporter": "python",
   "pygments_lexer": "ipython3",
   "version": "3.7.3"
  }
 },
 "nbformat": 4,
 "nbformat_minor": 2
}
